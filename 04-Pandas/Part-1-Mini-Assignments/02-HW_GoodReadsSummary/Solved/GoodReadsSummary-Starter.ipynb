{
 "cells": [
  {
   "cell_type": "code",
   "execution_count": 5,
   "metadata": {},
   "outputs": [],
   "source": [
    "# Import Dependencies\n",
    "import pandas as pd\n",
    "import os\n"
   ]
  },
  {
   "cell_type": "code",
   "execution_count": 6,
   "metadata": {
    "scrolled": true
   },
   "outputs": [
    {
     "data": {
      "text/html": [
       "<div>\n",
       "<style scoped>\n",
       "    .dataframe tbody tr th:only-of-type {\n",
       "        vertical-align: middle;\n",
       "    }\n",
       "\n",
       "    .dataframe tbody tr th {\n",
       "        vertical-align: top;\n",
       "    }\n",
       "\n",
       "    .dataframe thead th {\n",
       "        text-align: right;\n",
       "    }\n",
       "</style>\n",
       "<table border=\"1\" class=\"dataframe\">\n",
       "  <thead>\n",
       "    <tr style=\"text-align: right;\">\n",
       "      <th></th>\n",
       "      <th>ISBN</th>\n",
       "      <th>Publication Year</th>\n",
       "      <th>Original Title</th>\n",
       "      <th>Authors</th>\n",
       "      <th>One Star Reviews</th>\n",
       "      <th>Two Star Reviews</th>\n",
       "      <th>Three Star Reviews</th>\n",
       "      <th>Four Star Reviews</th>\n",
       "      <th>Five Star Reviews</th>\n",
       "    </tr>\n",
       "  </thead>\n",
       "  <tbody>\n",
       "    <tr>\n",
       "      <td>0</td>\n",
       "      <td>439023483</td>\n",
       "      <td>2008.0</td>\n",
       "      <td>The Hunger Games</td>\n",
       "      <td>Suzanne Collins</td>\n",
       "      <td>66715</td>\n",
       "      <td>127936</td>\n",
       "      <td>560092</td>\n",
       "      <td>1481305</td>\n",
       "      <td>2706317</td>\n",
       "    </tr>\n",
       "    <tr>\n",
       "      <td>1</td>\n",
       "      <td>439554934</td>\n",
       "      <td>1997.0</td>\n",
       "      <td>Harry Potter and the Philosopher's Stone</td>\n",
       "      <td>J.K. Rowling, Mary GrandPré</td>\n",
       "      <td>75504</td>\n",
       "      <td>101676</td>\n",
       "      <td>455024</td>\n",
       "      <td>1156318</td>\n",
       "      <td>3011543</td>\n",
       "    </tr>\n",
       "    <tr>\n",
       "      <td>2</td>\n",
       "      <td>316015849</td>\n",
       "      <td>2005.0</td>\n",
       "      <td>Twilight</td>\n",
       "      <td>Stephenie Meyer</td>\n",
       "      <td>456191</td>\n",
       "      <td>436802</td>\n",
       "      <td>793319</td>\n",
       "      <td>875073</td>\n",
       "      <td>1355439</td>\n",
       "    </tr>\n",
       "    <tr>\n",
       "      <td>3</td>\n",
       "      <td>61120081</td>\n",
       "      <td>1960.0</td>\n",
       "      <td>To Kill a Mockingbird</td>\n",
       "      <td>Harper Lee</td>\n",
       "      <td>60427</td>\n",
       "      <td>117415</td>\n",
       "      <td>446835</td>\n",
       "      <td>1001952</td>\n",
       "      <td>1714267</td>\n",
       "    </tr>\n",
       "    <tr>\n",
       "      <td>4</td>\n",
       "      <td>743273567</td>\n",
       "      <td>1925.0</td>\n",
       "      <td>The Great Gatsby</td>\n",
       "      <td>F. Scott Fitzgerald</td>\n",
       "      <td>86236</td>\n",
       "      <td>197621</td>\n",
       "      <td>606158</td>\n",
       "      <td>936012</td>\n",
       "      <td>947718</td>\n",
       "    </tr>\n",
       "  </tbody>\n",
       "</table>\n",
       "</div>"
      ],
      "text/plain": [
       "        ISBN  Publication Year                            Original Title  \\\n",
       "0  439023483            2008.0                          The Hunger Games   \n",
       "1  439554934            1997.0  Harry Potter and the Philosopher's Stone   \n",
       "2  316015849            2005.0                                  Twilight   \n",
       "3   61120081            1960.0                     To Kill a Mockingbird   \n",
       "4  743273567            1925.0                          The Great Gatsby   \n",
       "\n",
       "                       Authors  One Star Reviews  Two Star Reviews  \\\n",
       "0              Suzanne Collins             66715            127936   \n",
       "1  J.K. Rowling, Mary GrandPré             75504            101676   \n",
       "2              Stephenie Meyer            456191            436802   \n",
       "3                   Harper Lee             60427            117415   \n",
       "4          F. Scott Fitzgerald             86236            197621   \n",
       "\n",
       "   Three Star Reviews  Four Star Reviews  Five Star Reviews  \n",
       "0              560092            1481305            2706317  \n",
       "1              455024            1156318            3011543  \n",
       "2              793319             875073            1355439  \n",
       "3              446835            1001952            1714267  \n",
       "4              606158             936012             947718  "
      ]
     },
     "execution_count": 6,
     "metadata": {},
     "output_type": "execute_result"
    }
   ],
   "source": [
    "# Path and filename for the file to Load\n",
    "good_reads=\"Resources/books_clean.csv\"\n",
    "\n",
    "# Read the modified GoodReads csv and store into Pandas DataFrame\n",
    "goodReads_df=pd.read_csv(good_reads,encoding=\"utf-8\")\n",
    "\n",
    "goodReads_df.head()\n",
    "\n"
   ]
  },
  {
   "cell_type": "code",
   "execution_count": 7,
   "metadata": {},
   "outputs": [
    {
     "data": {
      "text/plain": [
       "4664"
      ]
     },
     "execution_count": 7,
     "metadata": {},
     "output_type": "execute_result"
    }
   ],
   "source": [
    "# Calculate the number of unique authors in the DataFrame\n",
    "count=goodReads_df[\"Authors\"].nunique()\n",
    "count"
   ]
  },
  {
   "cell_type": "code",
   "execution_count": 9,
   "metadata": {},
   "outputs": [
    {
     "data": {
      "text/plain": [
       "-1750.0"
      ]
     },
     "execution_count": 9,
     "metadata": {},
     "output_type": "execute_result"
    }
   ],
   "source": [
    "# Calculate the earliest year a book was published\n",
    "earliest_year=goodReads_df[\"Publication Year\"].min()\n",
    "earliest_year"
   ]
  },
  {
   "cell_type": "code",
   "execution_count": 10,
   "metadata": {},
   "outputs": [
    {
     "data": {
      "text/plain": [
       "2017.0"
      ]
     },
     "execution_count": 10,
     "metadata": {},
     "output_type": "execute_result"
    }
   ],
   "source": [
    "# Calculate the latest year a book was published\n",
    "latest_year=goodReads_df[\"Publication Year\"].max()\n",
    "latest_year"
   ]
  },
  {
   "cell_type": "code",
   "execution_count": 11,
   "metadata": {},
   "outputs": [
    {
     "data": {
      "text/plain": [
       "0       4944373.0\n",
       "1       4802062.0\n",
       "2       3918829.0\n",
       "3       3342856.0\n",
       "4       2775670.0\n",
       "          ...    \n",
       "9995      20866.0\n",
       "9996      14942.0\n",
       "9997      12710.0\n",
       "9998      14005.0\n",
       "9999      11698.0\n",
       "Length: 10000, dtype: float64"
      ]
     },
     "execution_count": 11,
     "metadata": {},
     "output_type": "execute_result"
    }
   ],
   "source": [
    "# Calculate the total reviews column that contains the sum of reviews for each row\n",
    "# Hint: use the pandas' sum(axis='columns') to get the sum across the columns \n",
    "\n",
    "reviews_df=goodReads_df[[\"One Star Reviews\",\"Two Star Reviews\",\"Three Star Reviews\",\n",
    "                           \"Four Star Reviews\",\"Five Star Reviews\"]]\n",
    "reviews_df.head()\n",
    "total_reviews_col = goodReads_df.sum(axis='columns')\n",
    "total_reviews_col"
   ]
  },
  {
   "cell_type": "code",
   "execution_count": 12,
   "metadata": {},
   "outputs": [
    {
     "data": {
      "text/plain": [
       "616651471.0"
      ]
     },
     "execution_count": 12,
     "metadata": {},
     "output_type": "execute_result"
    }
   ],
   "source": [
    "# Create a `total_reviews` variable that sums up the values from your new `Total Reviews` column in the DataFrame\n",
    "total_reviews=total_reviews_col.sum()\n",
    "total_reviews\n"
   ]
  },
  {
   "cell_type": "code",
   "execution_count": 13,
   "metadata": {},
   "outputs": [
    {
     "data": {
      "text/html": [
       "<div>\n",
       "<style scoped>\n",
       "    .dataframe tbody tr th:only-of-type {\n",
       "        vertical-align: middle;\n",
       "    }\n",
       "\n",
       "    .dataframe tbody tr th {\n",
       "        vertical-align: top;\n",
       "    }\n",
       "\n",
       "    .dataframe thead th {\n",
       "        text-align: right;\n",
       "    }\n",
       "</style>\n",
       "<table border=\"1\" class=\"dataframe\">\n",
       "  <thead>\n",
       "    <tr style=\"text-align: right;\">\n",
       "      <th></th>\n",
       "      <th>No. Unique Authors</th>\n",
       "      <th>Earliest Publication</th>\n",
       "      <th>Latest Publication:</th>\n",
       "      <th>Total Reviews:</th>\n",
       "    </tr>\n",
       "  </thead>\n",
       "  <tbody>\n",
       "    <tr>\n",
       "      <td>0</td>\n",
       "      <td>4664</td>\n",
       "      <td>-1750.0</td>\n",
       "      <td>2017.0</td>\n",
       "      <td>616651471.0</td>\n",
       "    </tr>\n",
       "  </tbody>\n",
       "</table>\n",
       "</div>"
      ],
      "text/plain": [
       "   No. Unique Authors   Earliest Publication   Latest Publication:   \\\n",
       "0                 4664                -1750.0                2017.0   \n",
       "\n",
       "   Total Reviews:   \n",
       "0      616651471.0  "
      ]
     },
     "execution_count": 13,
     "metadata": {},
     "output_type": "execute_result"
    }
   ],
   "source": [
    "# Place all of the data found into a summary DataFrame\n",
    "summary_df=pd.DataFrame({\"No. Unique Authors \":[count],\n",
    "                         \"Earliest Publication \" :[earliest_year],\n",
    "                         \"Latest Publication: \" :[latest_year],\n",
    "                         \"Total Reviews: \": [total_reviews]\n",
    "})\n",
    "\n",
    "# Show the DataFrame\n",
    "summary_df\n",
    "\n"
   ]
  },
  {
   "cell_type": "code",
   "execution_count": null,
   "metadata": {},
   "outputs": [],
   "source": []
  }
 ],
 "metadata": {
  "kernelspec": {
   "display_name": "Python 3",
   "language": "python",
   "name": "python3"
  },
  "language_info": {
   "codemirror_mode": {
    "name": "ipython",
    "version": 3
   },
   "file_extension": ".py",
   "mimetype": "text/x-python",
   "name": "python",
   "nbconvert_exporter": "python",
   "pygments_lexer": "ipython3",
   "version": "3.7.4"
  }
 },
 "nbformat": 4,
 "nbformat_minor": 2
}
